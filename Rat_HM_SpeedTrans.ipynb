{
 "cells": [
  {
   "cell_type": "code",
   "execution_count": 10,
   "id": "possible-slope",
   "metadata": {},
   "outputs": [],
   "source": [
    "## Import functions\n",
    "\n",
    "import numpy as np  \n",
    "import pandas as pd\n",
    "np.set_printoptions(suppress=True) # Supress scientific notation when printing\n",
    "import matplotlib.pyplot as plt\n",
    "plt.rcParams['figure.figsize'] = [10, 5]\n",
    "import seaborn as sns\n",
    "from scipy.ndimage import gaussian_filter1d\n",
    "import re # Regular expressions\n",
    "import networkx as nx # Package for graph represenations \n",
    "from datetime import datetime, time \n",
    "import pygraphviz as gv\n",
    "\n",
    "from networkx.drawing.nx_agraph import graphviz_layout, to_agraph, write_dot\n",
    "from scipy.ndimage.filters import uniform_filter1d\n",
    "\n",
    "\n",
    "from sklearn.mixture import GaussianMixture\n",
    "from scipy.stats import norm\n",
    "from scipy.signal import argrelextrema\n",
    "from scipy import signal"
   ]
  },
  {
   "cell_type": "code",
   "execution_count": 11,
   "id": "welcome-phrase",
   "metadata": {},
   "outputs": [
    {
     "name": "stdout",
     "output_type": "stream",
     "text": [
      "load graph\n",
      "graph: number of nodes =  96 , edges =  125\n",
      "dictionary: len = 96 , total items = 9216\n"
     ]
    }
   ],
   "source": [
    "edgelist_filename = './data/graph_edgelist.dat'\n",
    "\n",
    "### load graph\n",
    "print(\"load graph\")\n",
    "G = nx.read_edgelist(edgelist_filename)  \n",
    "print(\"graph: number of nodes = \",G.number_of_nodes(),\", edges = \",G.number_of_edges())\n",
    "\n",
    "### pre-compute all possible shortest path lengths and save in dictionary (does not save shortest paths itself)\n",
    "DD = nx.shortest_path_length(G) \n",
    "DD = dict(DD)\n",
    "print(\"dictionary: len =\", len(DD), \", total items =\", sum([len(dv) for dv in DD.values()]))\n",
    "\n",
    "# get node positions from recosntructed graph \n",
    "pos = graphviz_layout(G)"
   ]
  },
  {
   "cell_type": "code",
   "execution_count": 12,
   "id": "vital-delay",
   "metadata": {},
   "outputs": [],
   "source": [
    "## Set file names and paths\n",
    "\n",
    "# Read full processed csv file and select rat and session\n",
    "\n",
    "# SET CORRECT FILENAME!!!!!!!, since import date may differ!!!\n",
    "filename = './results/Rat_HM_Ephys_AggProc_20220202.csv'\n",
    "\n",
    "data_full = pd.read_csv(filename)"
   ]
  },
  {
   "cell_type": "code",
   "execution_count": 13,
   "id": "advance-basics",
   "metadata": {},
   "outputs": [],
   "source": [
    "from __future__ import division \n",
    "\n",
    "def interpolated_intercept(x, y1, y2):\n",
    "    \"\"\"Find the intercept of two curves, given by the same x data\"\"\"\n",
    "\n",
    "    def intercept(point1, point2, point3, point4):\n",
    "        \"\"\"find the intersection between two lines\n",
    "        the first line is defined by the line between point1 and point2\n",
    "        the second line is defined by the line between point3 and point4\n",
    "        each point is an (x,y) tuple.\n",
    "\n",
    "        So, for example, you can find the intersection between\n",
    "        intercept((0,0), (1,1), (0,1), (1,0)) = (0.5, 0.5)\n",
    "\n",
    "        Returns: the intercept, in (x,y) format\n",
    "        \"\"\"    \n",
    "\n",
    "        def line(p1, p2):\n",
    "            A = (p1[1] - p2[1])\n",
    "            B = (p2[0] - p1[0])\n",
    "            C = (p1[0]*p2[1] - p2[0]*p1[1])\n",
    "            return A, B, -C\n",
    "\n",
    "        def intersection(L1, L2):\n",
    "            D  = L1[0] * L2[1] - L1[1] * L2[0]\n",
    "            Dx = L1[2] * L2[1] - L1[1] * L2[2]\n",
    "            Dy = L1[0] * L2[2] - L1[2] * L2[0]\n",
    "\n",
    "            x = Dx / D\n",
    "            y = Dy / D\n",
    "            return x,y\n",
    "        L1 = line([point1[0],point1[1]], [point2[0],point2[1]])\n",
    "        L2 = line([point3[0],point3[1]], [point4[0],point4[1]])\n",
    "\n",
    "        R = intersection(L1, L2)\n",
    "\n",
    "        return R\n",
    "\n",
    "    idx = np.argwhere(np.diff(np.sign(y1 - y2)) != 0)\n",
    "    xc, yc = intercept((x[idx], y1[idx]),((x[idx+1], y1[idx+1])), ((x[idx], y2[idx])), ((x[idx+1], y2[idx+1])))\n",
    "    return xc.flatten(),yc.flatten()\n",
    "\n",
    "   \n",
    "# #For the model with 3 Gaussians\n",
    "# x_ax  = f_axis1\n",
    "# y1 = c[0]\n",
    "# y2 = c[2]\n",
    "\n",
    "# plt.plot(x_ax, y1, marker='o', mec='none', ms=4, lw=1, label='y1')\n",
    "# plt.plot(x_ax, y2, marker='o', mec='none', ms=4, lw=1, label='y2')\n",
    "\n",
    "# idx = np.argwhere(np.diff(np.sign(y1 - y2)) != 0)\n",
    "\n",
    "# plt.plot(x_ax[idx], y1[idx], 'ms', ms=7, label='Nearest data-point method')\n",
    "\n",
    "# # new method!\n",
    "# xc, yc = interpolated_intercept(x_ax,y1,y2)\n",
    "# plt.plot(xc, yc, 'co', ms=5, label='Nearest data-point, with linear interpolation')\n",
    "# print(xc,yc)\n",
    "\n",
    "\n",
    "# plt.legend(frameon=False, fontsize=10, numpoints=1, loc='lower left')\n",
    "\n",
    "# plt.show()"
   ]
  },
  {
   "cell_type": "code",
   "execution_count": 18,
   "id": "substantial-marking",
   "metadata": {},
   "outputs": [],
   "source": [
    "def intersectionPoint(ratNr):\n",
    "    \n",
    "    dataRatNr = data_full.loc[data_full['rat_no']==ratNr]\n",
    "    dates = dataRatNr['date'].unique()\n",
    "    meanIntersection = list()\n",
    "    mean1 = list()\n",
    "    mean2 = list()\n",
    "    intersectionPoint = list()\n",
    "    \n",
    "    for i in dates:\n",
    "        dataRatSession = data_full.loc[(data_full['rat_no']==ratNr) & (data_full['date']==i)]\n",
    "        sp = dataRatSession['speed_ff']*-1\n",
    "\n",
    "        sptotal = pd.concat([dataRatSession['speed_ff'],(sp)])\n",
    "\n",
    "        gmm2 = GaussianMixture(n_components = 3).fit(np.asarray(sptotal).reshape(-1, 1))\n",
    "        \n",
    "        #plt.figure()\n",
    "        #plt.hist(sptotal, bins=np.linspace(-1,1,50), histtype='stepfilled', density = True, alpha=0.5)\n",
    "        #plt.xlim(-1, 1)\n",
    "        \n",
    "        f_axis1 = sptotal.copy().ravel()\n",
    "        f_axis1.sort()\n",
    "        a = []\n",
    "        c = []\n",
    "        for weight, mean, covar in zip(gmm2.weights_, gmm2.means_, gmm2.covariances_):\n",
    "            a.append(mean)\n",
    "            c.append(weight*norm.pdf(f_axis1, mean, np.sqrt(covar)).ravel())\n",
    "            #plt.plot(f_axis1, c[-1])\n",
    "            \n",
    "        #plt.plot(f_axis1, np.array(c).sum(axis =0), 'k-')\n",
    "        #plt.xlabel('Variable')\n",
    "        #plt.ylabel('PDF')\n",
    "        #plt.tight_layout()\n",
    "        #plt.show()\n",
    "        a=np.asarray(a)\n",
    "        \n",
    "        g1=np.argmin(abs(a))\n",
    "        g2=np.argmax(a)\n",
    "\n",
    "        a = (a[g1],a[g2])\n",
    "        c = (c[g1],c[g2])\n",
    "        \n",
    "        x_axis  = f_axis1\n",
    "        y1 = c[0]\n",
    "        y2 = c[1]\n",
    "        #plt.plot(x_axis, y1, marker='o', mec='none', ms=4, lw=1, label='y1')\n",
    "        #plt.plot(x_axis, y2, marker='o', mec='none', ms=4, lw=1, label='y2')\n",
    "        idx = np.argwhere(np.diff(np.sign(y1 - y2)) != 0)\n",
    "       \n",
    "\n",
    "        #plt.plot(x_axis[idx], y1[idx], 'ms', ms=7, label='Nearest data-point method')\n",
    "        y1 = y1[x_axis>0]\n",
    "        y2 = y2[x_axis>0]\n",
    "        x_axis = x_axis[x_axis>0]\n",
    "        xc, yc = interpolated_intercept(x_axis,y1,y2)\n",
    "        #plt.plot(xc, yc, 'co', ms=5, label='Nearest data-point, with linear interpolation')\n",
    "        mean1.append(a[0])\n",
    "        mean2.append(a[1])\n",
    "        intersectionPoint.append((xc,yc))\n",
    "        meanIntersection.append((a[0].flatten(),(xc.flatten(),yc.flatten()), a[1].flatten()))\n",
    "    return mean1 , mean2, intersectionPoint, dates, dataRatNr\n",
    "#mean1,mean2,intersectionP, dateD, dataRatNr = intersectionPoint('Rat5')\n",
    "#print(intersectionPoint('Rat5'))\n",
    "\n",
    "# Plotting in time the averages of the intersection point and means per session.\n",
    "# Calculating the intersection point of average point within trials (min aantal puntnen?)"
   ]
  },
  {
   "cell_type": "code",
   "execution_count": 55,
   "id": "trying-kinase",
   "metadata": {},
   "outputs": [],
   "source": [
    "def getnewDataframe (dataR, sessionNumber, ratNr):\n",
    "    listAtWhatSpeedCrossesLine = list()\n",
    "    listSpeed = list()\n",
    "    listTimes = list()\n",
    "    indexList = list()\n",
    "    goalNodeList = list()\n",
    "    trialNumberList = list()\n",
    "    intersectionNodeList = list()\n",
    "    listSessionNumber = list()\n",
    "    dates = dataRatNr['date'].unique()\n",
    "    if sessionNumber==0:\n",
    "        for n_sess,z in enumerate(dates):\n",
    "            print(intersection_point[n_sess][0])\n",
    "            dataRatSession = data_full.loc[(data_full['rat_no']==ratNr) & (data_full['date']==z)]\n",
    "            dataRatSession.set_index('trial_no', inplace=True)\n",
    "            tr_list = dataRatSession.index.unique()\n",
    "            for tr in tr_list:\n",
    "                q = 0\n",
    "                p = 0\n",
    "                b = dataRatSession.loc[tr, 'speed_ff']\n",
    "                i = -1\n",
    "                for j in b:\n",
    "                        \n",
    "                        if(j<=i and j>=intersection_point[n_sess][0]):\n",
    "                            listAtWhatSpeedCrossesLine.append((tr, j))\n",
    "                            if q==0:\n",
    "                                trialNumberList.append(tr)\n",
    "                                listSpeed.append((tr,j))\n",
    "                                listTimes.append(dataRatSession.loc[tr,'cum_seconds'].iloc[p])\n",
    "                                indexList.append(p)\n",
    "                                goalNodeList.append(dataRatSession.loc[tr,'node'].iloc[-1])\n",
    "                                intersectionNodeList.append(dataRatSession.loc[tr,'node'].iloc[p]) \n",
    "                                listSessionNumber.append(z)\n",
    "                            q+=1   \n",
    "                        i=j\n",
    "                        p+=1\n",
    "\n",
    "    else:\n",
    "        dataRatSession = data_full.loc[(data_full['rat_no']==ratNr) & (data_full['date']==sessionNumber)]\n",
    "        dataRatSession.set_index('trial_no', inplace=True)\n",
    "        tr_list = dataRatSession.index.unique()\n",
    "        \n",
    "        n_sess = np.argwhere(session_number==sessionNumber)[0][0]\n",
    "        print(intersection_point[n_sess][0])\n",
    "        for tr in tr_list:\n",
    "            q = 0\n",
    "            p = 0\n",
    "            b = dataRatSession.loc[tr,'speed_ff']\n",
    "            i = -1\n",
    "            for j in b:\n",
    "                    \n",
    "                    if(j<=i and j>=intersection_point[n_sess][0]):\n",
    "                        listAtWhatSpeedCrossesLine.append((tr, j))\n",
    "                        if q==0:\n",
    "                            trialNumberList.append(tr)\n",
    "                            listSpeed.append((tr,j))\n",
    "                            listTimes.append(dataRatSession.loc[tr,'cum_seconds'].iloc[p])\n",
    "                            indexList.append(p)\n",
    "                            goalNodeList.append(dataRatSession.loc[tr,'node'].iloc[-1])\n",
    "                            intersectionNodeList.append(dataRatSession.loc[tr,'node'].iloc[p]) \n",
    "                            listSessionNumber.append(sessionNumber)\n",
    "                        q+=1   \n",
    "                    i=j\n",
    "                    p+=1\n",
    "                    \n",
    "    res = pd.DataFrame(list(zip(trialNumberList, listTimes, indexList, intersectionNodeList, goalNodeList,listSessionNumber)),\n",
    "               columns =['trial_number', 'time', 'index', 'intersection_node', 'goal_node','session_number'])\n",
    "    res.sort_values(by = ['session_number', 'trial_number'], ascending=[True,True], inplace = True)\n",
    "    res.drop_duplicates(subset=['session_number','trial_number'],keep=False, inplace = True)\n",
    "    return res"
   ]
  },
  {
   "cell_type": "code",
   "execution_count": 56,
   "id": "coupled-italy",
   "metadata": {},
   "outputs": [],
   "source": [
    "def getInfoRat(ratNr, sessionNr):\n",
    "    mean1,mean2,intersection_point, session_number, dataRatNr = intersectionPoint(ratNr)\n",
    "    df = getnewDataframe(dataRatNr, sessionNr, ratNr)\n",
    "    cf = df.copy()\n",
    "    cf = cf.groupby(['intersection_node'])['intersection_node'].count().reset_index(\n",
    "  name='Count').sort_values(['Count'], ascending=False)\n",
    "    #print(cf)\n",
    "    return df, cf"
   ]
  },
  {
   "cell_type": "code",
   "execution_count": 57,
   "id": "bridal-differential",
   "metadata": {},
   "outputs": [
    {
     "name": "stdout",
     "output_type": "stream",
     "text": [
      "[0.17783625]\n",
      "    intersection_node  Count\n",
      "9                 301      4\n",
      "1                 118      2\n",
      "2                 120      2\n",
      "3                 201      2\n",
      "5                 207      2\n",
      "11                318      2\n",
      "12                403      2\n",
      "0                 115      1\n",
      "4                 202      1\n",
      "6                 209      1\n",
      "7                 210      1\n",
      "8                 220      1\n",
      "10                308      1\n",
      "13                405      1\n",
      "14                410      1\n",
      "15                417      1\n"
     ]
    }
   ],
   "source": [
    "dataFram, dictF = getInfoRat('Rat5', '2021-06-29')\n",
    "#print(dataFram)\n",
    "print(dictF)"
   ]
  },
  {
   "cell_type": "code",
   "execution_count": 19,
   "id": "sensitive-mercury",
   "metadata": {},
   "outputs": [],
   "source": [
    "mean1,mean2,intersection_point, session_number, dataRatNr = intersectionPoint('Rat5')"
   ]
  },
  {
   "cell_type": "code",
   "execution_count": 58,
   "id": "continuing-prototype",
   "metadata": {},
   "outputs": [
    {
     "name": "stdout",
     "output_type": "stream",
     "text": [
      "[0.16087066]\n",
      "[0.17783625]\n",
      "[0.16338227]\n",
      "[0.16134963]\n",
      "[0.18747182]\n",
      "[0.14360431]\n",
      "    intersection_node  Count\n",
      "38                401     13\n",
      "23                301      7\n",
      "5                 118      7\n",
      "11                202      7\n",
      "8                 122      6\n",
      "13                207      6\n",
      "6                 120      5\n",
      "10                201      4\n",
      "28                308      4\n",
      "29                310      4\n",
      "36                323      4\n",
      "41                407      4\n",
      "25                303      4\n",
      "12                203      3\n",
      "26                305      3\n",
      "37                324      3\n",
      "15                210      3\n",
      "39                403      3\n",
      "34                318      3\n",
      "19                220      3\n",
      "20                222      3\n",
      "1                 109      3\n",
      "4                 117      3\n",
      "43                409      2\n",
      "35                322      2\n",
      "33                317      2\n",
      "0                 108      2\n",
      "2                 115      2\n",
      "7                 121      2\n",
      "27                307      1\n",
      "14                209      1\n",
      "44                410      1\n",
      "42                408      1\n",
      "3                 116      1\n",
      "40                405      1\n",
      "9                 123      1\n",
      "16                215      1\n",
      "24                302      1\n",
      "17                217      1\n",
      "18                218      1\n",
      "21                223      1\n",
      "32                316      1\n",
      "31                314      1\n",
      "30                311      1\n",
      "22                224      1\n",
      "45                417      1\n"
     ]
    }
   ],
   "source": [
    "dataFram, dictF = getInfoRat('Rat5', 0)\n",
    "#print(dataFram)\n",
    "print(dictF)"
   ]
  },
  {
   "cell_type": "code",
   "execution_count": 50,
   "id": "satellite-factor",
   "metadata": {},
   "outputs": [],
   "source": [
    "n_sess = np.argwhere(session_number=='2021-06-28')[0][0]"
   ]
  },
  {
   "cell_type": "code",
   "execution_count": 51,
   "id": "cultural-briefs",
   "metadata": {},
   "outputs": [
    {
     "data": {
      "text/plain": [
       "0"
      ]
     },
     "execution_count": 51,
     "metadata": {},
     "output_type": "execute_result"
    }
   ],
   "source": [
    "n_sess"
   ]
  },
  {
   "cell_type": "code",
   "execution_count": 36,
   "id": "negative-world",
   "metadata": {},
   "outputs": [
    {
     "data": {
      "text/plain": [
       "array(['2021-06-28', '2021-06-29', '2021-07-10', '2021-07-11',\n",
       "       '2021-07-13', '2021-07-15'], dtype=object)"
      ]
     },
     "execution_count": 36,
     "metadata": {},
     "output_type": "execute_result"
    }
   ],
   "source": [
    "session_number"
   ]
  },
  {
   "cell_type": "code",
   "execution_count": 68,
   "id": "accredited-horizontal",
   "metadata": {},
   "outputs": [
    {
     "data": {
      "text/plain": [
       "108"
      ]
     },
     "execution_count": 68,
     "metadata": {},
     "output_type": "execute_result"
    }
   ],
   "source": [
    "dictF.loc[0]['intersection_node']"
   ]
  },
  {
   "cell_type": "code",
   "execution_count": 67,
   "id": "ambient-montreal",
   "metadata": {},
   "outputs": [
    {
     "data": {
      "text/plain": [
       "46"
      ]
     },
     "execution_count": 67,
     "metadata": {},
     "output_type": "execute_result"
    }
   ],
   "source": [
    "dictF.shape[0]"
   ]
  },
  {
   "cell_type": "code",
   "execution_count": null,
   "id": "geological-capitol",
   "metadata": {},
   "outputs": [],
   "source": []
  }
 ],
 "metadata": {
  "kernelspec": {
   "display_name": "Python 3",
   "language": "python",
   "name": "python3"
  },
  "language_info": {
   "codemirror_mode": {
    "name": "ipython",
    "version": 3
   },
   "file_extension": ".py",
   "mimetype": "text/x-python",
   "name": "python",
   "nbconvert_exporter": "python",
   "pygments_lexer": "ipython3",
   "version": "3.7.6"
  }
 },
 "nbformat": 4,
 "nbformat_minor": 5
}
