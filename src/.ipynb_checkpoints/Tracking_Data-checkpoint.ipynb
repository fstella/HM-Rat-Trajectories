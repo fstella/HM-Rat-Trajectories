{
 "cells": [
  {
   "cell_type": "code",
   "execution_count": 1,
   "id": "monthly-anaheim",
   "metadata": {},
   "outputs": [
    {
     "name": "stderr",
     "output_type": "stream",
     "text": [
      "Matplotlib is building the font cache; this may take a moment.\n"
     ]
    },
    {
     "ename": "ModuleNotFoundError",
     "evalue": "No module named 'pygraphviz'",
     "output_type": "error",
     "traceback": [
      "\u001b[0;31m---------------------------------------------------------------------------\u001b[0m",
      "\u001b[0;31mModuleNotFoundError\u001b[0m                       Traceback (most recent call last)",
      "\u001b[0;32m<ipython-input-1-a22f7bdb6c37>\u001b[0m in \u001b[0;36m<module>\u001b[0;34m\u001b[0m\n\u001b[1;32m      9\u001b[0m \u001b[0;34m\u001b[0m\u001b[0m\n\u001b[1;32m     10\u001b[0m \u001b[0;32mfrom\u001b[0m \u001b[0mnetworkx\u001b[0m\u001b[0;34m.\u001b[0m\u001b[0mdrawing\u001b[0m\u001b[0;34m.\u001b[0m\u001b[0mnx_agraph\u001b[0m \u001b[0;32mimport\u001b[0m \u001b[0mgraphviz_layout\u001b[0m\u001b[0;34m,\u001b[0m \u001b[0mto_agraph\u001b[0m\u001b[0;34m,\u001b[0m \u001b[0mwrite_dot\u001b[0m\u001b[0;34m\u001b[0m\u001b[0;34m\u001b[0m\u001b[0m\n\u001b[0;32m---> 11\u001b[0;31m \u001b[0;32mimport\u001b[0m \u001b[0mpygraphviz\u001b[0m \u001b[0;32mas\u001b[0m \u001b[0mgv\u001b[0m\u001b[0;34m\u001b[0m\u001b[0;34m\u001b[0m\u001b[0m\n\u001b[0m",
      "\u001b[0;31mModuleNotFoundError\u001b[0m: No module named 'pygraphviz'"
     ]
    }
   ],
   "source": [
    "## IMPORT FUNCTIONS\n",
    "\n",
    "import numpy as np # Package fro the array structures \n",
    "import matplotlib.pyplot as plt # This is the package for all the basic plotting (plots, histograms, scatters...)\n",
    "\n",
    "import networkx as nx # Package for graph represenations \n",
    "\n",
    "import re \n",
    "\n",
    "from networkx.drawing.nx_agraph import graphviz_layout, to_agraph, write_dot\n",
    "import pygraphviz as gv"
   ]
  },
  {
   "cell_type": "code",
   "execution_count": 2,
   "id": "exterior-resource",
   "metadata": {},
   "outputs": [
    {
     "name": "stdout",
     "output_type": "stream",
     "text": [
      "load graph\n",
      "graph: number of nodes =  96 , edges =  125\n",
      "dictionary: len = 96 , total items = 9216\n"
     ]
    }
   ],
   "source": [
    "### load graph\n",
    "print(\"load graph\")\n",
    "G = nx.read_edgelist(\"./graph_edgelist.dat\")  ## CHECH FILE PATH!!!!\n",
    "print(\"graph: number of nodes = \",G.number_of_nodes(),\", edges = \",G.number_of_edges())\n",
    "\n",
    "### pre-compute all possible shortest path lengths and save in dictionary (does not save shortest paths itself)\n",
    "DD = nx.shortest_path_length(G) \n",
    "DD = dict(DD)\n",
    "print(\"dictionary: len =\", len(DD), \", total items =\", sum([len(dv) for dv in DD.values()]))\n",
    "\n",
    "# get node positions from recosntructed graph \n",
    "pos = graphviz_layout(G)"
   ]
  },
  {
   "cell_type": "code",
   "execution_count": 3,
   "id": "handy-northeast",
   "metadata": {},
   "outputs": [],
   "source": [
    "# Load all lines from file\n",
    "f = open('20210628_Rat5.txt', 'r')\n",
    "list_all = [x for k,x in enumerate(f.readlines())]\n",
    "# Locate trial line boundaries \n",
    "f = open('20210628_Rat5.txt', 'r')\n",
    "list_tr_bb = [k for k,x in enumerate(f.readlines()) if x[0:2]=='St']\n"
   ]
  },
  {
   "cell_type": "code",
   "execution_count": 4,
   "id": "concerned-burning",
   "metadata": {},
   "outputs": [],
   "source": [
    "# Load step-wise trial information \n",
    "list_sess = []\n",
    "for l,tr in enumerate(list_tr_bb[:-1]):\n",
    "    list_sing = [x for x in list_all[list_tr_bb[l]:list_tr_bb[l+1]] if x[0]=='('] # Lines starting with ( \n",
    "    list_sess.append(list_sing)\n"
   ]
  },
  {
   "cell_type": "code",
   "execution_count": 5,
   "id": "japanese-adaptation",
   "metadata": {},
   "outputs": [],
   "source": [
    "# Now collect data for selected trials \n",
    "speed = []\n",
    "first = []\n",
    "second = []\n",
    "\n",
    "tr_list = np.arange(10,20) # Select Trials \n",
    "\n",
    "for tr in tr_list:\n",
    "    for x in list_sess[tr]:\n",
    "        s = [float(s) for s in re.findall(r'-?\\d+\\.?\\d*', x)] # Extract numbers from text line \n",
    "        first.append(s[0]) # Store values in arrays\n",
    "        second.append(s[1])\n",
    "        speed.append(s[-1])\n",
    "\n",
    "# Now turn into numpy array \n",
    "first = np.asarray(first).astype(int)\n",
    "second = np.asarray(second).astype(int)\n",
    "speed = np.asarray(speed)\n",
    "speed[speed>4] = np.mean(speed) # Here I just remove some outliying data points that look very suspicious \n"
   ]
  },
  {
   "cell_type": "code",
   "execution_count": 6,
   "id": "coupled-yemen",
   "metadata": {},
   "outputs": [
    {
     "name": "stderr",
     "output_type": "stream",
     "text": [
      "/Users/federico/anaconda3/lib/python3.7/site-packages/numpy/core/fromnumeric.py:3335: RuntimeWarning: Mean of empty slice.\n",
      "  out=out, **kwargs)\n",
      "/Users/federico/anaconda3/lib/python3.7/site-packages/numpy/core/_methods.py:161: RuntimeWarning: invalid value encountered in double_scalars\n",
      "  ret = ret.dtype.type(ret / rcount)\n"
     ]
    }
   ],
   "source": [
    "# Compute median value for each NODE  \n",
    "nodes = np.asarray(G.nodes())\n",
    "\n",
    "m_speed = np.zeros(len(nodes))\n",
    "pos_x = np.zeros(len(nodes))\n",
    "pos_y = np.zeros(len(nodes))\n",
    "\n",
    "for k,x in enumerate(nodes):\n",
    "    \n",
    "    m_speed[k]=np.median(speed[first==int(x)])\n",
    "    pos_x[k]=pos[x][0]\n",
    "    pos_y[k]=pos[x][1]"
   ]
  },
  {
   "cell_type": "code",
   "execution_count": 7,
   "id": "concerned-sphere",
   "metadata": {},
   "outputs": [
    {
     "data": {
      "text/plain": [
       "<matplotlib.collections.PathCollection at 0x7f885821bcd0>"
      ]
     },
     "execution_count": 7,
     "metadata": {},
     "output_type": "execute_result"
    },
    {
     "data": {
      "image/png": "[encoded data removed]",
      "text/plain": [
       "<Figure size 432x288 with 1 Axes>"
      ]
     },
     "metadata": {
      "needs_background": "light"
     },
     "output_type": "display_data"
    }
   ],
   "source": [
    "# And plot them using node positions from the graph \n",
    "plt.scatter(pos_x,pos_y,s=80,c=m_speed)\n",
    "plt.scatter(pos[str(int(s[1]))][0],pos[str(int(s[1]))][1],s=100,c='red')"
   ]
  },
  {
   "cell_type": "code",
   "execution_count": null,
   "id": "underlying-disco",
   "metadata": {},
   "outputs": [],
   "source": []
  }
 ],
 "metadata": {
  "kernelspec": {
   "display_name": "Python 3",
   "language": "python",
   "name": "python3"
  },
  "language_info": {
   "codemirror_mode": {
    "name": "ipython",
    "version": 3
   },
   "file_extension": ".py",
   "mimetype": "text/x-python",
   "name": "python",
   "nbconvert_exporter": "python",
   "pygments_lexer": "ipython3",
   "version": "3.8.8"
  }
 },
 "nbformat": 4,
 "nbformat_minor": 5
}
